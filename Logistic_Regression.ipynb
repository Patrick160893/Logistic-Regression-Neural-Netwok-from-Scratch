{
 "cells": [
  {
   "cell_type": "markdown",
   "id": "1c2ceef3",
   "metadata": {},
   "source": [
    "Logistic Regression - Diabetes"
   ]
  },
  {
   "cell_type": "code",
   "execution_count": 1,
   "id": "c8003375",
   "metadata": {},
   "outputs": [],
   "source": [
    "import numpy as np\n",
    "import pandas as pd\n",
    "import matplotlib.pyplot as plt"
   ]
  },
  {
   "cell_type": "code",
   "execution_count": 2,
   "id": "d1d8e756",
   "metadata": {
    "scrolled": false
   },
   "outputs": [
    {
     "name": "stdout",
     "output_type": "stream",
     "text": [
      "          0    1    2    3    4    5    6    7    8    9    ...  604  605  \\\n",
      "diabetes  0.0  1.0  1.0  0.0  1.0  0.0  0.0  0.0  0.0  0.0  ...  0.0  0.0   \n",
      "\n",
      "          606  607  608  609  610  611  612  613  \n",
      "diabetes  1.0  1.0  0.0  1.0  0.0  0.0  0.0  0.0  \n",
      "\n",
      "[1 rows x 614 columns]\n",
      "Number of training examples: m_train = 614\n",
      "Number of testing examples: m_test = 154\n",
      "X_train shape: (9, 614)\n",
      "Y_train shape: (1, 614)\n",
      "X_test shape: (9, 154)\n",
      "0\n",
      "614\n"
     ]
    }
   ],
   "source": [
    "diabetes_train = pd.read_csv('/Users/patrickorourke/Desktop/diabetes-classification/train.csv')\n",
    "diabetes_test = pd.read_csv('/Users/patrickorourke/Desktop/diabetes-classification/test.csv')\n",
    "diabetes_train = diabetes_train.T #### Need to transpose the initial dataframe so the input vector is of the form\n",
    "diabetes_test = diabetes_test.T \n",
    "##### (Dimension fo input features, number of training examples)\n",
    "##print(diabetes_dataset.shape)     #(10, 614)\n",
    "#X = diabetes_dataset.iloc[[0,1,2,3,4,5,6,7,8], :]\n",
    "X_train = diabetes_train.iloc[:9,:]  ### (9, 614)\n",
    "X_test = diabetes_test.iloc[:9,:]  ### (9, 614)\n",
    "##print(X.shape)\n",
    "\n",
    "\n",
    "Y_train = diabetes_train.iloc[[9],:] ### (1, 614)\n",
    "print(Y_train)\n",
    "\n",
    "\n",
    "\n",
    "\n",
    "training_examples = X_train.shape[0]\n",
    "test_examples = X_test.shape[0]\n",
    "\n",
    "m_train = Y_train.shape[1]\n",
    "m_test = X_test.shape[1]\n",
    "\n",
    "\n",
    "print (\"Number of training examples: m_train = \" + str(m_train))\n",
    "print (\"Number of testing examples: m_test = \" + str(m_test))\n",
    "print (\"X_train shape: \" + str(X_train.shape))\n",
    "print (\"Y_train shape: \" + str(Y_train.shape))\n",
    "print (\"X_test shape: \" + str(X_test.shape))\n",
    "#print (\"Y_test shape: \" + str(Y_test.shape))\n",
    "\n",
    "w = np.zeros((training_examples,1))\n",
    "\n",
    "\n",
    "\n",
    "b = 0\n",
    "print(b)\n",
    "\n",
    "alpha = 0.00001\n",
    "\n",
    "J = 0\n",
    "\n",
    "m = X_train.shape[1]\n",
    "n = X_test.shape[1]\n",
    "\n",
    "print(m)\n",
    "\n",
    "\n",
    "a = 0.00003\n",
    "\n",
    "Y_Prediction = []\n",
    "\n",
    "#iterations = 1000"
   ]
  },
  {
   "cell_type": "code",
   "execution_count": 3,
   "id": "f723d1c5",
   "metadata": {},
   "outputs": [],
   "source": [
    "### Standardize data\n",
    "#X_test = X_test\n",
    "#X_train = X_train\n",
    "#Y_train = Y_train\n",
    "\n",
    "# Normalize data\n",
    "X_train = (X_train - np.min(X_train))/(np.max(X_train)-np.min(X_train)).values\n",
    "X_test = (X_test - np.min(X_test))/(np.max(X_test)-np.min(X_test)).values"
   ]
  },
  {
   "cell_type": "code",
   "execution_count": 4,
   "id": "5679261d",
   "metadata": {},
   "outputs": [],
   "source": [
    "class logistic_regression:\n",
    "\n",
    "    def __init__(self,alpha,iterations):\n",
    "        self.alpha = alpha\n",
    "        self.iterations = iterations\n",
    "\n",
    "    def forward_propagation(self,w,b,X,Y,J):\n",
    "       # print(\"Shape of w: \", w.shape)  ### (9, 1)\n",
    "       # print(\"Shape of X: \", X.shape)  ### (9, 614)\n",
    "       # print(\"Shape of b: \", b)        ### 0\n",
    "        z = np.dot(w.T,X) + b\n",
    "        #print(z) # [[0. 0. 0. 0. 0. 0. 0. 0. 0.]]\n",
    "      #  print(\"Shape of z: \", z.shape)  ### (1, 614)\n",
    "        a = 1/(1 + np.exp(-z))\n",
    "      #  print(\"Shape of a: \", a.shape)  ### (1, 614)\n",
    "        assert(a.shape == (1, m))\n",
    "\n",
    "      #  a = np.squeeze(np.asarray(a))\n",
    "\n",
    "      #  print(\"Shape of Y: \", Y.shape)  ### (1, 614)\n",
    "         \n",
    "\n",
    "        J = np.sum((np.dot(Y.T,np.log(a)) + np.dot((1 - Y.T),np.log(1 - a)))) * (-1.0 / m)\n",
    "\n",
    "        assert(J.shape == ())\n",
    "       # print(\"J: \", J)\n",
    "      # print(\"Shape of J: \", J.shape)  ### (614,)\n",
    "     #   J = np.squeeze(J)\n",
    "      #  print(\"The value of J: \", J)\n",
    "        ###assert(J.shape == ())\n",
    "        return a,J \n",
    "\n",
    "    def backward_propagation(self,alpha,m,a,X,Y,w,b):    \n",
    "      #  print(\"Original Shape of w: \", w.shape)  ### (9,1)\n",
    "      #  print(\"Original Shape of b: \", b)        ### 0     \n",
    "        dz = a - Y     ##### dJ/dz\n",
    "       # print(\"Shape of dz: \", dz.shape)         ### (1, 614)\n",
    "       # print(\"Shape of X: \", X.shape)           ### (9, 614)\n",
    "        dw = (1 / m) * (np.dot(X,dz.T))\n",
    "      #  print(\"Shape of dw: \", dw.shape)         ### (9, 1) \n",
    "        db = (1.0 / m) * (np.sum(dz))\n",
    "        assert(dw.shape == w.shape)\n",
    "        assert(db.dtype == float)\n",
    "        db = db.shape[0]\n",
    "       # print(\"Shape of db: \", db)         ### (614,)\n",
    "        w -= (alpha * dw)\n",
    "      #  print(\"Shape of w: \", w.shape)           ### (9, 1) \n",
    "        b -= (alpha * db)\n",
    "       # print(\"New Shape of b: \", b)       ### (614,)\n",
    "        return w,b\n",
    "\n",
    "\n",
    "\n",
    "\n",
    "    def train(self,w,b,X,Y,J,alpha,iterations):\n",
    "\n",
    "        costs = []\n",
    "\n",
    "        for i in range(iterations):\n",
    "\n",
    "            a, J = self.forward_propagation(w,b,X,Y,J)\n",
    "            w, b = self.backward_propagation(alpha, m, a, X, Y, w, b)\n",
    "\n",
    "            # Record the costs\n",
    "            if i % 10 == 0:\n",
    "                costs.append(J)\n",
    "                \n",
    "            # Print the cost every 100 training examples\n",
    "            if i % 10 == 0:\n",
    "                print(\"Cost after iteration %i: %f\" % (i, J))\n",
    "                \n",
    "        print(w)\n",
    "        print(b)\n",
    "\n",
    "        return  w, b, costs\n",
    "    \n",
    "    def predict(self,X,w,b):\n",
    "        # Predict using LEARNED logistic para,eters\n",
    "        \n",
    "        Y_prediction = np.zeros((1, X.shape[1]))\n",
    "        \n",
    "        print(\"Y_prediction: \",Y_prediction.shape)\n",
    "        print(\"X: \", X.shape)\n",
    "        print(\"w: \", w.shape)\n",
    "        print(\"b: \", b)\n",
    "        \n",
    "        \n",
    "        z = np.dot(w.T,X) + b\n",
    "        #print(z)\n",
    "        a = 1.0/(1 + np.exp(-z))\n",
    "       # print(a)\n",
    "        \n",
    "        \n",
    "        \n",
    "        for i in range(X.shape[1]):\n",
    "            Y_prediction[0, i] = 1 if a[0, i] > 0.5 else 0\n",
    "            #print(Y_prediction[0, i])\n",
    "            \n",
    "        \n",
    "            \n",
    "        assert(Y_prediction.shape == (1, X.shape[1]))\n",
    "            \n",
    "        return Y_prediction\n",
    "            \n",
    "      \n",
    "    \n",
    "        \n",
    "        "
   ]
  },
  {
   "cell_type": "code",
   "execution_count": 5,
   "id": "93d33091",
   "metadata": {},
   "outputs": [],
   "source": [
    "ans = logistic_regression(alpha=0.00001,iterations=300)"
   ]
  },
  {
   "cell_type": "code",
   "execution_count": 6,
   "id": "e61a313d",
   "metadata": {
    "scrolled": true
   },
   "outputs": [
    {
     "name": "stdout",
     "output_type": "stream",
     "text": [
      "Cost after iteration 0: 425.592369\n",
      "Cost after iteration 10: 420.170105\n",
      "Cost after iteration 20: 415.326331\n",
      "Cost after iteration 30: 411.059366\n",
      "Cost after iteration 40: 407.366455\n",
      "Cost after iteration 50: 404.243790\n",
      "Cost after iteration 60: 401.686536\n",
      "Cost after iteration 70: 399.688873\n",
      "Cost after iteration 80: 398.244028\n",
      "Cost after iteration 90: 397.344334\n",
      "Cost after iteration 100: 396.981275\n",
      "Cost after iteration 110: 397.145546\n",
      "Cost after iteration 120: 397.827118\n",
      "Cost after iteration 130: 399.015298\n",
      "Cost after iteration 140: 400.698797\n",
      "Cost after iteration 150: 402.865799\n",
      "Cost after iteration 160: 405.504028\n",
      "Cost after iteration 170: 408.600815\n",
      "Cost after iteration 180: 412.143170\n",
      "Cost after iteration 190: 416.117842\n",
      "Cost after iteration 200: 420.511385\n",
      "Cost after iteration 210: 425.310219\n",
      "Cost after iteration 220: 430.500687\n",
      "Cost after iteration 230: 436.069113\n",
      "Cost after iteration 240: 442.001849\n",
      "[[1.74369294e-05]\n",
      " [3.75760509e-06]\n",
      " [8.12970422e-05]\n",
      " [1.98701190e-05]\n",
      " [8.08973054e-06]\n",
      " [6.43150839e-05]\n",
      " [1.62644693e-05]\n",
      " [2.68339353e-07]\n",
      " [1.62173342e-05]]\n",
      "-1.535000000000005\n"
     ]
    }
   ],
   "source": [
    "w_learned, b_learned, costs = ans.train(w,b,X_train,Y_train,J,alpha,iterations=250)\n"
   ]
  },
  {
   "cell_type": "code",
   "execution_count": 7,
   "id": "70b7ff50",
   "metadata": {
    "scrolled": false
   },
   "outputs": [
    {
     "name": "stdout",
     "output_type": "stream",
     "text": [
      "[[1.74369294e-05]\n",
      " [3.75760509e-06]\n",
      " [8.12970422e-05]\n",
      " [1.98701190e-05]\n",
      " [8.08973054e-06]\n",
      " [6.43150839e-05]\n",
      " [1.62644693e-05]\n",
      " [2.68339353e-07]\n",
      " [1.62173342e-05]]\n"
     ]
    }
   ],
   "source": [
    "print(w_learned)"
   ]
  },
  {
   "cell_type": "code",
   "execution_count": 8,
   "id": "3adb16bc",
   "metadata": {},
   "outputs": [
    {
     "name": "stdout",
     "output_type": "stream",
     "text": [
      "-1.535000000000005\n"
     ]
    }
   ],
   "source": [
    "print(b_learned)"
   ]
  },
  {
   "cell_type": "code",
   "execution_count": 9,
   "id": "58eacdb9",
   "metadata": {
    "scrolled": true
   },
   "outputs": [
    {
     "name": "stdout",
     "output_type": "stream",
     "text": [
      "Y_prediction:  (1, 614)\n",
      "X:  (9, 614)\n",
      "w:  (9, 1)\n",
      "b:  -1.535000000000005\n"
     ]
    }
   ],
   "source": [
    "Y_prediction_train = ans.predict(X_train,w_learned,b_learned)"
   ]
  },
  {
   "cell_type": "code",
   "execution_count": 10,
   "id": "b3a5de13",
   "metadata": {},
   "outputs": [
    {
     "name": "stdout",
     "output_type": "stream",
     "text": [
      "Y_prediction:  (1, 154)\n",
      "X:  (9, 154)\n",
      "w:  (9, 1)\n",
      "b:  -1.535000000000005\n"
     ]
    }
   ],
   "source": [
    "Y_prediction_test = ans.predict(X_test,w_learned,b_learned)"
   ]
  },
  {
   "cell_type": "code",
   "execution_count": 11,
   "id": "c26588c5",
   "metadata": {
    "scrolled": true
   },
   "outputs": [
    {
     "name": "stdout",
     "output_type": "stream",
     "text": [
      "[[0. 1. 1. 0. 1. 0. 0. 0. 0. 0. 0. 1. 0. 0. 0. 0. 0. 1. 1. 1. 0. 0. 0. 1.\n",
      "  1. 0. 1. 0. 1. 0. 0. 1. 0. 0. 0. 0. 1. 0. 0. 0. 0. 0. 1. 0. 1. 0. 0. 0.\n",
      "  1. 0. 1. 0. 1. 1. 0. 1. 0. 0. 0. 0. 1. 0. 0. 1. 0. 1. 0. 0. 1. 1. 0. 1.\n",
      "  1. 0. 0. 0. 1. 1. 0. 0. 0. 0. 0. 1. 0. 0. 0. 0. 0. 1. 0. 0. 0. 0. 0. 0.\n",
      "  1. 1. 1. 0. 1. 0. 0. 0. 0. 0. 0. 1. 0. 0. 0. 0. 1. 0. 0. 1. 1. 0. 0. 1.\n",
      "  0. 1. 0. 0. 0. 0. 0. 1. 0. 0. 1. 0. 0. 0. 0. 0. 0. 0. 1. 0. 0. 0. 0. 0.\n",
      "  1. 0. 0. 1. 1. 1. 0. 0. 0. 0. 0. 0. 1. 1. 0. 0. 1. 0. 0. 0. 0. 1. 0. 0.\n",
      "  0. 0. 1. 1. 0. 0. 1. 0. 0. 0. 0. 1. 0. 1. 0. 1. 1. 1. 1. 1. 1. 1. 1. 0.\n",
      "  0. 0. 1. 0. 0. 1. 0. 0. 0. 1. 0. 0. 0. 0. 0. 0. 1. 0. 0. 0. 0. 0. 0. 0.\n",
      "  1. 0. 0. 1. 0. 0. 0. 0. 0. 1. 1. 0. 0. 1. 0. 0. 1. 0. 0. 0. 0. 0. 0. 1.\n",
      "  1. 0. 0. 0. 0. 0. 0. 1. 1. 0. 1. 1. 0. 0. 1. 1. 1. 0. 0. 0. 0. 0. 0. 1.\n",
      "  0. 0. 1. 0. 0. 1. 0. 0. 0. 1. 1. 0. 0. 0. 0. 0. 1. 1. 0. 0. 1. 1. 1. 1.\n",
      "  1. 0. 0. 0. 0. 0. 0. 0. 1. 0. 0. 1. 0. 0. 1. 1. 0. 0. 0. 0. 0. 0. 0. 0.\n",
      "  0. 0. 0. 1. 0. 1. 0. 1. 1. 0. 0. 1. 0. 1. 0. 1. 0. 0. 1. 0. 0. 0. 0. 1.\n",
      "  0. 0. 1. 0. 1. 0. 1. 1. 1. 1. 0. 0. 0. 1. 0. 0. 1. 1. 0. 0. 0. 0. 1. 0.\n",
      "  0. 1. 0. 1. 0. 0. 0. 0. 1. 1. 0. 1. 0. 0. 1. 1. 0. 0. 1. 1. 1. 1. 1. 0.\n",
      "  0. 1. 0. 0. 0. 0. 0. 0. 1. 1. 0. 0. 1. 0. 0. 0. 1. 0. 0. 0. 1. 0. 1. 1.\n",
      "  0. 0. 1. 0. 0. 0. 0. 1. 0. 0. 1. 0. 0. 0. 1. 0. 1. 1. 1. 1. 1. 1. 0. 1.\n",
      "  0. 0. 1. 0. 1. 0. 0. 1. 0. 0. 1. 1. 0. 0. 0. 0. 0. 0. 0. 1. 1. 0. 0. 0.\n",
      "  0. 1. 1. 1. 0. 1. 1. 1. 1. 1. 1. 1. 1. 0. 0. 0. 0. 0. 0. 0. 0. 1. 1. 0.\n",
      "  0. 1. 0. 0. 0. 0. 0. 0. 0. 0. 0. 0. 0. 0. 0. 1. 0. 0. 0. 0. 1. 0. 0. 0.\n",
      "  0. 1. 0. 0. 0. 1. 0. 0. 0. 0. 1. 1. 1. 0. 1. 1. 0. 0. 1. 0. 1. 0. 0. 1.\n",
      "  0. 0. 0. 0. 0. 1. 0. 0. 1. 1. 1. 0. 0. 0. 1. 0. 0. 0. 0. 0. 0. 1. 0. 0.\n",
      "  1. 1. 0. 1. 0. 0. 1. 1. 1. 0. 0. 1. 0. 1. 0. 0. 0. 0. 0. 1. 0. 1. 0. 0.\n",
      "  0. 1. 0. 0. 0. 0. 1. 0. 0. 1. 1. 1. 0. 1. 1. 1. 0. 1. 1. 0. 0. 0. 0. 0.\n",
      "  0. 0. 1. 1. 0. 0. 1. 1. 0. 1. 0. 0. 0. 0.]]\n"
     ]
    }
   ],
   "source": [
    "print(np.array(Y_train))"
   ]
  },
  {
   "cell_type": "code",
   "execution_count": 12,
   "id": "7981380a",
   "metadata": {},
   "outputs": [
    {
     "name": "stdout",
     "output_type": "stream",
     "text": [
      "[[0. 0. 0. 0. 0. 0. 0. 0. 0. 0. 0. 0. 0. 0. 0. 0. 0. 0. 0. 0. 0. 0. 0. 0.\n",
      "  0. 0. 0. 0. 0. 0. 0. 0. 0. 0. 0. 0. 0. 0. 0. 0. 0. 0. 0. 0. 0. 0. 0. 0.\n",
      "  0. 0. 0. 0. 0. 0. 0. 0. 0. 0. 0. 0. 0. 0. 0. 0. 0. 0. 0. 0. 0. 0. 0. 0.\n",
      "  0. 0. 0. 0. 0. 0. 0. 0. 0. 0. 0. 0. 0. 0. 0. 0. 0. 0. 0. 0. 0. 0. 0. 0.\n",
      "  0. 0. 0. 0. 0. 0. 0. 0. 0. 0. 0. 0. 0. 0. 0. 0. 0. 0. 0. 0. 0. 0. 0. 0.\n",
      "  0. 0. 0. 0. 0. 0. 0. 0. 0. 0. 0. 0. 0. 0. 0. 0. 0. 0. 0. 0. 0. 0. 0. 0.\n",
      "  0. 0. 0. 0. 0. 0. 0. 0. 0. 0. 0. 0. 0. 0. 0. 0. 0. 0. 0. 0. 0. 0. 0. 0.\n",
      "  0. 0. 0. 0. 0. 0. 0. 0. 0. 0. 0. 0. 0. 0. 0. 0. 0. 0. 0. 0. 0. 0. 0. 0.\n",
      "  0. 0. 0. 0. 0. 0. 0. 0. 0. 0. 0. 0. 0. 0. 0. 0. 0. 0. 0. 0. 0. 0. 0. 0.\n",
      "  0. 0. 0. 0. 0. 0. 0. 0. 0. 0. 0. 0. 0. 0. 0. 0. 0. 0. 0. 0. 0. 0. 0. 0.\n",
      "  0. 0. 0. 0. 0. 0. 0. 0. 0. 0. 0. 0. 0. 0. 0. 0. 0. 0. 0. 0. 0. 0. 0. 0.\n",
      "  0. 0. 0. 0. 0. 0. 0. 0. 0. 0. 0. 0. 0. 0. 0. 0. 0. 0. 0. 0. 0. 0. 0. 0.\n",
      "  0. 0. 0. 0. 0. 0. 0. 0. 0. 0. 0. 0. 0. 0. 0. 0. 0. 0. 0. 0. 0. 0. 0. 0.\n",
      "  0. 0. 0. 0. 0. 0. 0. 0. 0. 0. 0. 0. 0. 0. 0. 0. 0. 0. 0. 0. 0. 0. 0. 0.\n",
      "  0. 0. 0. 0. 0. 0. 0. 0. 0. 0. 0. 0. 0. 0. 0. 0. 0. 0. 0. 0. 0. 0. 0. 0.\n",
      "  0. 0. 0. 0. 0. 0. 0. 0. 0. 0. 0. 0. 0. 0. 0. 0. 0. 0. 0. 0. 0. 0. 0. 0.\n",
      "  0. 0. 0. 0. 0. 0. 0. 0. 0. 0. 0. 0. 0. 0. 0. 0. 0. 0. 0. 0. 0. 0. 0. 0.\n",
      "  0. 0. 0. 0. 0. 0. 0. 0. 0. 0. 0. 0. 0. 0. 0. 0. 0. 0. 0. 0. 0. 0. 0. 0.\n",
      "  0. 0. 0. 0. 0. 0. 0. 0. 0. 0. 0. 0. 0. 0. 0. 0. 0. 0. 0. 0. 0. 0. 0. 0.\n",
      "  0. 0. 0. 0. 0. 0. 0. 0. 0. 0. 0. 0. 0. 0. 0. 0. 0. 0. 0. 0. 0. 0. 0. 0.\n",
      "  0. 0. 0. 0. 0. 0. 0. 0. 0. 0. 0. 0. 0. 0. 0. 0. 0. 0. 0. 0. 0. 0. 0. 0.\n",
      "  0. 0. 0. 0. 0. 0. 0. 0. 0. 0. 0. 0. 0. 0. 0. 0. 0. 0. 0. 0. 0. 0. 0. 0.\n",
      "  0. 0. 0. 0. 0. 0. 0. 0. 0. 0. 0. 0. 0. 0. 0. 0. 0. 0. 0. 0. 0. 0. 0. 0.\n",
      "  0. 0. 0. 0. 0. 0. 0. 0. 0. 0. 0. 0. 0. 0. 0. 0. 0. 0. 0. 0. 0. 0. 0. 0.\n",
      "  0. 0. 0. 0. 0. 0. 0. 0. 0. 0. 0. 0. 0. 0. 0. 0. 0. 0. 0. 0. 0. 0. 0. 0.\n",
      "  0. 0. 0. 0. 0. 0. 0. 0. 0. 0. 0. 0. 0. 0.]]\n"
     ]
    }
   ],
   "source": [
    "print(Y_prediction_train)"
   ]
  },
  {
   "cell_type": "code",
   "execution_count": 13,
   "id": "72b03a3f",
   "metadata": {},
   "outputs": [
    {
     "name": "stdout",
     "output_type": "stream",
     "text": [
      "          0    1    2    3    4    5    6    7    8    9    ...  604  605  \\\n",
      "diabetes  0.0  1.0  1.0  0.0  1.0  0.0  0.0  0.0  0.0  0.0  ...  0.0  0.0   \n",
      "\n",
      "          606  607  608  609  610  611  612  613  \n",
      "diabetes  1.0  1.0  0.0  1.0  0.0  0.0  0.0  0.0  \n",
      "\n",
      "[1 rows x 614 columns]\n"
     ]
    }
   ],
   "source": [
    "print(Y_train)"
   ]
  },
  {
   "cell_type": "code",
   "execution_count": 14,
   "id": "e93efa17",
   "metadata": {
    "scrolled": true
   },
   "outputs": [],
   "source": [
    "#print(\"test accuracy: {} %\".format(100 - np.mean(np.abs(y_prediction_test - test_labels)) * 100))"
   ]
  },
  {
   "cell_type": "code",
   "execution_count": 15,
   "id": "18ebda58",
   "metadata": {
    "scrolled": true
   },
   "outputs": [
    {
     "data": {
      "image/png": "[encoded data removed]",
      "text/plain": [
       "<Figure size 432x288 with 1 Axes>"
      ]
     },
     "metadata": {
      "needs_background": "light"
     },
     "output_type": "display_data"
    }
   ],
   "source": [
    "# Plot learning curve (with costs)\n",
    "#costs = np.squeeze(d['costs'])\n",
    "plt.plot(costs)\n",
    "plt.ylabel('cost')\n",
    "plt.xlabel('iterations (per hundreds)')\n",
    "plt.title(\"Learning rate =\" + str([\"learning_rate\"]))\n",
    "plt.show()"
   ]
  },
  {
   "cell_type": "code",
   "execution_count": null,
   "id": "dc3c36d1",
   "metadata": {},
   "outputs": [],
   "source": []
  }
 ],
 "metadata": {
  "kernelspec": {
   "display_name": "Python 3",
   "language": "python",
   "name": "python3"
  },
  "language_info": {
   "codemirror_mode": {
    "name": "ipython",
    "version": 3
   },
   "file_extension": ".py",
   "mimetype": "text/x-python",
   "name": "python",
   "nbconvert_exporter": "python",
   "pygments_lexer": "ipython3",
   "version": "3.8.2"
  }
 },
 "nbformat": 4,
 "nbformat_minor": 5
}
